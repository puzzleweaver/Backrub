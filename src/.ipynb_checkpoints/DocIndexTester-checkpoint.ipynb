{
 "cells": [
  {
   "cell_type": "code",
   "execution_count": 1,
   "metadata": {
    "collapsed": false
   },
   "outputs": [
    {
     "name": "stdout",
     "output_type": "stream",
     "text": [
      "0\n",
      "1\n",
      "0\n"
     ]
    }
   ],
   "source": [
    "import sys, os\n",
    "sys.path.append(os.path.abspath('doc_index/'))\n",
    "import Document_Index as docIndex\n",
    "import struct\n",
    "\n",
    "print docIndex.getID('http://www.ibm.com/')\n",
    "print docIndex.getID('http://www.youtube.com/')\n",
    "print docIndex.getID('http://www.ibm.com/')"
   ]
  },
  {
   "cell_type": "code",
   "execution_count": 2,
   "metadata": {
    "collapsed": false
   },
   "outputs": [
    {
     "name": "stdout",
     "output_type": "stream",
     "text": [
      "0 (0, 0, 0, 0, 256, 0)\n",
      "1 (1, 8372, 129038, 123, 12, 16)\n",
      "2 (0, 0, 0, 0, 0, 0)\n",
      "3 (0, 0, 1, 8372, 63502, 1)\n",
      "4 (1, 8372, 129038, 123, 12, 16)\n",
      "5 (1, 8372, 129038, 123, 12, 16)\n"
     ]
    }
   ],
   "source": [
    "status = 1#parsed\n",
    "repoPointer = 8372\n",
    "docchecksum = 129038\n",
    "docinfopointer = 123\n",
    "url_len = 12\n",
    "title_len = 16\n",
    "chunk = struct.pack('BIIIHH', status, repoPointer, docchecksum, docinfopointer, url_len, title_len)\n",
    "docIndex.setDocIndex(1, chunk)\n",
    "docIndex.setDocIndex(4, chunk)\n",
    "docIndex.setDocIndex(5, chunk)\n",
    "for i in xrange(0, 6):\n",
    "    print i, docIndex.getDocIndex(i)"
   ]
  },
  {
   "cell_type": "code",
   "execution_count": 3,
   "metadata": {
    "collapsed": false
   },
   "outputs": [
    {
     "name": "stdout",
     "output_type": "stream",
     "text": [
      "('http://www.ibm.com/', 'IBM - United States')\n",
      "pos:\t\t76\n",
      "url_len:\t19\n",
      "title_len:\t19\n"
     ]
    }
   ],
   "source": [
    "url = 'http://www.ibm.com/'\n",
    "title = 'IBM - United States'\n",
    "position, url_length, title_length = docIndex.setDocInfo(url, title)\n",
    "print docIndex.getDocInfo(position, url_length, title_length)\n",
    "\n",
    "print 'pos:\\t\\t',position\n",
    "print 'url_len:\\t', url_length\n",
    "print 'title_len:\\t', title_length"
   ]
  },
  {
   "cell_type": "code",
   "execution_count": 4,
   "metadata": {
    "collapsed": false
   },
   "outputs": [
    {
     "ename": "AttributeError",
     "evalue": "'module' object has no attribute 'setUrl'",
     "output_type": "error",
     "traceback": [
      "\u001b[0;31m---------------------------------------------------------------------------\u001b[0m",
      "\u001b[0;31mAttributeError\u001b[0m                            Traceback (most recent call last)",
      "\u001b[0;32m<ipython-input-4-6be16c1247b8>\u001b[0m in \u001b[0;36m<module>\u001b[0;34m()\u001b[0m\n\u001b[0;32m----> 1\u001b[0;31m \u001b[0murl_pos\u001b[0m\u001b[0;34m,\u001b[0m \u001b[0murl_len\u001b[0m \u001b[0;34m=\u001b[0m \u001b[0mdocIndex\u001b[0m\u001b[0;34m.\u001b[0m\u001b[0msetUrl\u001b[0m\u001b[0;34m(\u001b[0m\u001b[0murl\u001b[0m\u001b[0;34m)\u001b[0m\u001b[0;34m\u001b[0m\u001b[0m\n\u001b[0m\u001b[1;32m      2\u001b[0m \u001b[0;32mprint\u001b[0m \u001b[0mdocIndex\u001b[0m\u001b[0;34m.\u001b[0m\u001b[0mgetUrl\u001b[0m\u001b[0;34m(\u001b[0m\u001b[0murl_pos\u001b[0m\u001b[0;34m,\u001b[0m \u001b[0murl_len\u001b[0m\u001b[0;34m)\u001b[0m\u001b[0;34m\u001b[0m\u001b[0m\n",
      "\u001b[0;31mAttributeError\u001b[0m: 'module' object has no attribute 'setUrl'"
     ]
    }
   ],
   "source": [
    "url_pos, url_len = docIndex.setUrlList(url)\n",
    "print docIndex.getUrlList(url_pos, url_len)"
   ]
  }
 ],
 "metadata": {
  "kernelspec": {
   "display_name": "Python 2",
   "language": "python",
   "name": "python2"
  },
  "language_info": {
   "codemirror_mode": {
    "name": "ipython",
    "version": 2
   },
   "file_extension": ".py",
   "mimetype": "text/x-python",
   "name": "python",
   "nbconvert_exporter": "python",
   "pygments_lexer": "ipython2",
   "version": "2.7.11"
  }
 },
 "nbformat": 4,
 "nbformat_minor": 0
}
