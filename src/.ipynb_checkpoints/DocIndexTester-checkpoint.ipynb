{
 "cells": [
  {
   "cell_type": "code",
   "execution_count": 1,
   "metadata": {
    "collapsed": false
   },
   "outputs": [
    {
     "name": "stdout",
     "output_type": "stream",
     "text": [
      "0\n",
      "1\n",
      "0\n",
      "--------------------------------------\n",
      "('Current location: ', 65, '\\tExpected: ', 65)\n",
      "0 \u0000\u0000\u0000\u0000\u0000\u0000\u0000\u0000\u0000\u0000\u0000\u0000\u0000\n",
      "1 \u0000\u0000\u0000\u0000\u0000\u0000\u0000\u0000\u0000\u0000\u0000\u0000\u0000\n",
      "2 \u0000\u0000\u0000\u0000\u0000\u0000\u0000\u0000\u0000\u0000\u0000\u0000\u0000\n",
      "3 \u0000\u0000\u0000\u0000\u0000\u0000\u0000\u0000\u0000\u0000\u0000\u0000\u0000\n",
      "4 \u0000\u0000\u0000\u0000\u0000\u0000\u0000\u0000\u0000\u0000\u0000\u0000\u0000\n",
      "5 g\u0000\u0000\u0000� \u0000\u0000\u000e�\u0001\u0000\u0003\n"
     ]
    }
   ],
   "source": [
    "import sys, os\n",
    "sys.path.append(os.path.abspath('doc_index/'))\n",
    "import Document_Index as docIndex\n",
    "import struct\n",
    "\n",
    "print docIndex.getID('http://www.ibm.com/')\n",
    "print docIndex.getID('http://www.youtube.com/')\n",
    "print docIndex.getID('http://www.ibm.com/')\n",
    "print '--------------------------------------'\n",
    "\n",
    "status = 103\n",
    "repoPointer = 8372\n",
    "docchecksum = 129038\n",
    "docinfopointer = 1283\n",
    "chunk = struct.pack('BIII', status, repoPointer, docchecksum, docinfopointer)\n",
    "docIndex.setDocInfo(5, chunk)\n",
    "for i in xrange(0, 6):\n",
    "    print i, docIndex.getDocInfo(i), type(docIndex.getDocInfo(i))"
   ]
  },
  {
   "cell_type": "code",
   "execution_count": null,
   "metadata": {
    "collapsed": true
   },
   "outputs": [],
   "source": []
  },
  {
   "cell_type": "code",
   "execution_count": null,
   "metadata": {
    "collapsed": true
   },
   "outputs": [],
   "source": []
  }
 ],
 "metadata": {
  "kernelspec": {
   "display_name": "Python 2",
   "language": "python",
   "name": "python2"
  },
  "language_info": {
   "codemirror_mode": {
    "name": "ipython",
    "version": 2
   },
   "file_extension": ".py",
   "mimetype": "text/x-python",
   "name": "python",
   "nbconvert_exporter": "python",
   "pygments_lexer": "ipython2",
   "version": "2.7.11"
  }
 },
 "nbformat": 4,
 "nbformat_minor": 0
}
