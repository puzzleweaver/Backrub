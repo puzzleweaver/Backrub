{
 "cells": [
  {
   "cell_type": "code",
   "execution_count": 3,
   "metadata": {
    "collapsed": false
   },
   "outputs": [],
   "source": [
    "import urllib2\n",
    "import urlparse\n",
    "import re\n",
    "import sys\n",
    "import time\n",
    "import os\n",
    "import lxml.html.fromstring\n",
    "import anchors.Anchors as anchorHandler\n",
    "import doc_index.Document_Index as docIndex\n",
    "\n",
    "#import lexicon.Lexicon as lex\n",
    "import struct\n",
    "\n",
    "def crawlWebpage(url):\n",
    "    connection = urllib2.urlopen(url)\n",
    "    page = connection.read()\n",
    "    connection.close()\n",
    "    return page\n",
    "\n",
    "def parse_page_for_title(page):\n",
    "    tree = #lxml.html.fromstring(page)\n",
    "    return tree.findtext('.//title')\n",
    "\n",
    "def parse_page_for_anchors(page):\n",
    "    tree = fromstring(page)\n",
    "    paths = tree.xpath('//a')\n",
    "    anchors = []\n",
    "    for i in paths:\n",
    "        anchors.append((i.text, i.get(\"href\")))\n",
    "    return anchors\n",
    "\n",
    "def clean_text(text):\n",
    "    newText = text.replace(\"[\\n\\t!@#$%^&*()]+\", \" \")\n",
    "    return newText\n",
    "\n",
    "def encode_title_hits(title):\n",
    "    hits = []\n",
    "\n",
    "# put it all together!\n",
    "def parseFancyHits(url, docID, print_data=False):\n",
    "    page = crawlWebpage(url)\n",
    "\n",
    "    # This is an array of touple(text, xpath)\n",
    "    title = parse_page_for_title(page)\n",
    "\n",
    "    # this is an array of touple(text, fontSize)\n",
    "    anchors = parse_page_for_anchors(page)\n",
    "    for i in anchors:\n",
    "        text, link = i\n",
    "        anchorHandler.addAnchor(docID, link, text)\n",
    "    document_status, repository_pointer, checksum, docinfo_pointer, url_len, title_len = docIndex.getDocIndex(docID)\n",
    "    document_status = 1\n",
    "    position, url_length, title_length = docIndex.setDocInfo(url, title)\n",
    "    docinfo_pointer = position\n",
    "    url_len = url_length\n",
    "    title_len = title_length\n",
    "    packet = struct.pack('BIIIHH', document_status, repository_pointer, checksum, docinfo_pointer, url_len, title_len)\n",
    "    docIndex.setDocIndex(docID, packet)\n",
    "    \n",
    "    hits = encode_title_hits(title)\n",
    "    return hits"
   ]
  },
  {
   "cell_type": "code",
   "execution_count": 2,
   "metadata": {
    "collapsed": false
   },
   "outputs": [
    {
     "name": "stdout",
     "output_type": "stream",
     "text": [
      "Time  0.027285\n"
     ]
    },
    {
     "ename": "AttributeError",
     "evalue": "'module' object has no attribute 'html'",
     "output_type": "error",
     "traceback": [
      "\u001b[0;31m---------------------------------------------------------------------------\u001b[0m",
      "\u001b[0;31mAttributeError\u001b[0m                            Traceback (most recent call last)",
      "\u001b[0;32m<ipython-input-2-427a9c8b51b6>\u001b[0m in \u001b[0;36m<module>\u001b[0;34m()\u001b[0m\n\u001b[1;32m      4\u001b[0m \u001b[0;34m\u001b[0m\u001b[0m\n\u001b[1;32m      5\u001b[0m \u001b[0mbefore\u001b[0m \u001b[0;34m=\u001b[0m \u001b[0mtime\u001b[0m\u001b[0;34m.\u001b[0m\u001b[0mclock\u001b[0m\u001b[0;34m(\u001b[0m\u001b[0;34m)\u001b[0m\u001b[0;34m\u001b[0m\u001b[0m\n\u001b[0;32m----> 6\u001b[0;31m \u001b[0mtitle\u001b[0m \u001b[0;34m=\u001b[0m \u001b[0mparse_page_for_title\u001b[0m\u001b[0;34m(\u001b[0m\u001b[0mpage\u001b[0m\u001b[0;34m)\u001b[0m\u001b[0;34m\u001b[0m\u001b[0m\n\u001b[0m\u001b[1;32m      7\u001b[0m \u001b[0;32mprint\u001b[0m \u001b[0;34m\"Time \"\u001b[0m\u001b[0;34m,\u001b[0m \u001b[0;34m(\u001b[0m\u001b[0mtime\u001b[0m\u001b[0;34m.\u001b[0m\u001b[0mclock\u001b[0m\u001b[0;34m(\u001b[0m\u001b[0;34m)\u001b[0m \u001b[0;34m-\u001b[0m \u001b[0mbefore\u001b[0m\u001b[0;34m)\u001b[0m\u001b[0;34m\u001b[0m\u001b[0m\n\u001b[1;32m      8\u001b[0m \u001b[0;34m\u001b[0m\u001b[0m\n",
      "\u001b[0;32m<ipython-input-1-af15f35fd6d6>\u001b[0m in \u001b[0;36mparse_page_for_title\u001b[0;34m(page)\u001b[0m\n\u001b[1;32m     19\u001b[0m \u001b[0;34m\u001b[0m\u001b[0m\n\u001b[1;32m     20\u001b[0m \u001b[0;32mdef\u001b[0m \u001b[0mparse_page_for_title\u001b[0m\u001b[0;34m(\u001b[0m\u001b[0mpage\u001b[0m\u001b[0;34m)\u001b[0m\u001b[0;34m:\u001b[0m\u001b[0;34m\u001b[0m\u001b[0m\n\u001b[0;32m---> 21\u001b[0;31m     \u001b[0mtree\u001b[0m \u001b[0;34m=\u001b[0m \u001b[0mlxml\u001b[0m\u001b[0;34m.\u001b[0m\u001b[0mhtml\u001b[0m\u001b[0;34m.\u001b[0m\u001b[0mfromstring\u001b[0m\u001b[0;34m(\u001b[0m\u001b[0mpage\u001b[0m\u001b[0;34m)\u001b[0m\u001b[0;34m\u001b[0m\u001b[0m\n\u001b[0m\u001b[1;32m     22\u001b[0m     \u001b[0;32mreturn\u001b[0m \u001b[0mtree\u001b[0m\u001b[0;34m.\u001b[0m\u001b[0mfindtext\u001b[0m\u001b[0;34m(\u001b[0m\u001b[0;34m'.//title'\u001b[0m\u001b[0;34m)\u001b[0m\u001b[0;34m\u001b[0m\u001b[0m\n\u001b[1;32m     23\u001b[0m \u001b[0;34m\u001b[0m\u001b[0m\n",
      "\u001b[0;31mAttributeError\u001b[0m: 'module' object has no attribute 'html'"
     ]
    }
   ],
   "source": [
    "before = time.clock()\n",
    "page = crawlWebpage('https://github.com/')\n",
    "print \"Time \", (time.clock() - before)\n",
    "\n",
    "before = time.clock()\n",
    "title = parse_page_for_title(page)\n",
    "print \"Time \", (time.clock() - before)\n",
    "\n",
    "before = time.clock()\n",
    "anchors = parse_page_for_anchors(page)\n",
    "print \"Time \", (time.clock() - before)\n",
    "\n",
    "print(\"====================\")\n",
    "print title, clean_text(title)\n",
    "print \"====================\"\n",
    "print anchors"
   ]
  },
  {
   "cell_type": "code",
   "execution_count": null,
   "metadata": {
    "collapsed": true
   },
   "outputs": [],
   "source": []
  }
 ],
 "metadata": {
  "kernelspec": {
   "display_name": "Python 2",
   "language": "python",
   "name": "python2"
  },
  "language_info": {
   "codemirror_mode": {
    "name": "ipython",
    "version": 2
   },
   "file_extension": ".py",
   "mimetype": "text/x-python",
   "name": "python",
   "nbconvert_exporter": "python",
   "pygments_lexer": "ipython2",
   "version": "2.7.11"
  }
 },
 "nbformat": 4,
 "nbformat_minor": 0
}
