{
 "cells": [
  {
   "cell_type": "code",
   "execution_count": 1,
   "metadata": {
    "collapsed": false
   },
   "outputs": [
    {
     "name": "stdout",
     "output_type": "stream",
     "text": [
      "0\n"
     ]
    }
   ],
   "source": [
    "import sys, os\n",
    "import doc_index.Document_Index as docIndex\n",
    "\n",
    "import struct\n",
    "\n",
    "print docIndex.getID('http://www.reddit.com/')"
   ]
  },
  {
   "cell_type": "code",
   "execution_count": 2,
   "metadata": {
    "collapsed": false
   },
   "outputs": [
    {
     "name": "stdout",
     "output_type": "stream",
     "text": [
      "0 (0, 0, 0, 0, 22, 0)\n",
      "1 None\n",
      "2 None\n",
      "3 None\n",
      "4 None\n",
      "5 None\n"
     ]
    }
   ],
   "source": [
    "status = 0#unparsed\n",
    "repoPointer = 0\n",
    "docchecksum = 0\n",
    "docinfopointer, url_len = docIndex.setUrlInList('http://www.reddit.com/')\n",
    "title_len = 0\n",
    "chunk = struct.pack('BIIIHH', status, repoPointer, docchecksum, docinfopointer, url_len, title_len)\n",
    "docIndex.setDocIndex(0, chunk)\n",
    "for i in xrange(0, 6):\n",
    "    print i, docIndex.getDocIndex(i)"
   ]
  },
  {
   "cell_type": "code",
   "execution_count": 3,
   "metadata": {
    "collapsed": false
   },
   "outputs": [
    {
     "name": "stdout",
     "output_type": "stream",
     "text": [
      "('http://www.ibm.com/', 'IBM - United States')\n",
      "pos:\t\t152\n",
      "url_len:\t19\n",
      "title_len:\t19\n"
     ]
    }
   ],
   "source": [
    "url = 'http://www.ibm.com/'\n",
    "title = 'IBM - United States'\n",
    "position, url_length, title_length = docIndex.setDocInfo(url, title)\n",
    "print docIndex.getDocInfo(position, url_length, title_length)\n",
    "\n",
    "print 'pos:\\t\\t',position\n",
    "print 'url_len:\\t', url_length\n",
    "print 'title_len:\\t', title_length"
   ]
  },
  {
   "cell_type": "code",
   "execution_count": 4,
   "metadata": {
    "collapsed": false
   },
   "outputs": [
    {
     "name": "stdout",
     "output_type": "stream",
     "text": [
      "http://www.ibm.com/\n"
     ]
    }
   ],
   "source": [
    "url_pos, url_len = docIndex.setUrlInList(url)\n",
    "print docIndex.getUrlFromList(url_pos, url_len)"
   ]
  }
 ],
 "metadata": {
  "kernelspec": {
   "display_name": "Python 2",
   "language": "python",
   "name": "python2"
  },
  "language_info": {
   "codemirror_mode": {
    "name": "ipython",
    "version": 2
   },
   "file_extension": ".py",
   "mimetype": "text/x-python",
   "name": "python",
   "nbconvert_exporter": "python",
   "pygments_lexer": "ipython2",
   "version": "2.7.11"
  }
 },
 "nbformat": 4,
 "nbformat_minor": 0
}
