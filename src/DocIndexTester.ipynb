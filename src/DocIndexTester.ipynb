{
 "cells": [
  {
   "cell_type": "code",
   "execution_count": 1,
   "metadata": {
    "collapsed": false
   },
   "outputs": [
    {
     "name": "stdout",
     "output_type": "stream",
     "text": [
      "0\n",
      "1\n",
      "0\n"
     ]
    }
   ],
   "source": [
    "import sys, os\n",
    "sys.path.append(os.path.abspath('doc_index/'))\n",
    "import Document_Index as docIndex\n",
    "import struct\n",
    "\n",
    "print docIndex.getID('http://www.ibm.com/')\n",
    "print docIndex.getID('http://www.youtube.com/')\n",
    "print docIndex.getID('http://www.ibm.com/')"
   ]
  },
  {
   "cell_type": "code",
   "execution_count": 2,
   "metadata": {
    "collapsed": false
   },
   "outputs": [
    {
     "name": "stdout",
     "output_type": "stream",
     "text": [
      "('Current location: ', 17, '\\tExpected: ', 17)\n",
      "('Current location: ', 68, '\\tExpected: ', 68)\n",
      "('Current location: ', 85, '\\tExpected: ', 85)\n",
      "0 \u0000\u0000\u0000\u0000\u0000\u0000\u0000\u0000\u0000\u0000\u0000\u0000\u0000\u0000\u0000\u0000\u0000\n",
      "1 \u0001\u0000\u0000\u0000� \u0000\u0000\u000e�\u0001\u0000{\u0000\u0000\u0000\f",
      "\n",
      "2 \u0000\u0010\u0000\u0000\u0000\u0000\u0000\u0000\u0000\u0000\u0000\u0000\u0000\u0000\u0000\u0000\u0000\n",
      "3 \u0000\u0000\u0000\u0000\u0000\u0000\u0000\u0000\u0000\u0000\u0000\u0000\u0000\u0000\u0000\u0000\u0000\n",
      "4 \u0001\u0000\u0000\u0000� \u0000\u0000\u000e�\u0001\u0000{\u0000\u0000\u0000\f",
      "\n",
      "5 \u0001\u0000\u0000\u0000� \u0000\u0000\u000e�\u0001\u0000{\u0000\u0000\u0000\f",
      "\n"
     ]
    }
   ],
   "source": [
    "status = 1#parsed\n",
    "repoPointer = 8372\n",
    "docchecksum = 129038\n",
    "docinfopointer = 123\n",
    "url_len = 12\n",
    "title_len = 16\n",
    "chunk = struct.pack('BIIIHH', status, repoPointer, docchecksum, docinfopointer, url_len, title_len)\n",
    "docIndex.setDocIndex(1, chunk)\n",
    "docIndex.setDocIndex(4, chunk)\n",
    "docIndex.setDocIndex(5, chunk)\n",
    "for i in xrange(0, 6):\n",
    "    print i, docIndex.getDocIndex(i)"
   ]
  },
  {
   "cell_type": "code",
   "execution_count": 3,
   "metadata": {
    "collapsed": false
   },
   "outputs": [
    {
     "name": "stdout",
     "output_type": "stream",
     "text": [
      "('http://www.ibm.com/', 'IBM - United States')\n",
      "pos:\t\t38\n",
      "url_len:\t19\n",
      "title_len:\t19\n"
     ]
    }
   ],
   "source": [
    "url = 'http://www.ibm.com/'\n",
    "title = 'IBM - United States'\n",
    "position, url_length, title_length = docIndex.setDocInfo(url, title)\n",
    "print docIndex.getDocInfo(position, url_length, title_length)\n",
    "\n",
    "print 'pos:\\t\\t',position\n",
    "print 'url_len:\\t', url_length\n",
    "print 'title_len:\\t', title_length"
   ]
  },
  {
   "cell_type": "code",
   "execution_count": 4,
   "metadata": {
    "collapsed": false
   },
   "outputs": [
    {
     "name": "stdout",
     "output_type": "stream",
     "text": [
      "http://www.ibm.com/\n"
     ]
    }
   ],
   "source": [
    "url_pos, url_len = docIndex.setUrl(url)\n",
    "print docIndex.getUrl(url_pos, url_len)"
   ]
  }
 ],
 "metadata": {
  "kernelspec": {
   "display_name": "Python 2",
   "language": "python",
   "name": "python2"
  },
  "language_info": {
   "codemirror_mode": {
    "name": "ipython",
    "version": 2
   },
   "file_extension": ".py",
   "mimetype": "text/x-python",
   "name": "python",
   "nbconvert_exporter": "python",
   "pygments_lexer": "ipython2",
   "version": "2.7.11"
  }
 },
 "nbformat": 4,
 "nbformat_minor": 0
}
