{
 "cells": [
  {
   "cell_type": "code",
   "execution_count": 1,
   "metadata": {
    "collapsed": false
   },
   "outputs": [],
   "source": [
    "import urllib2\n",
    "import urlparse\n",
    "import re\n",
    "import sys\n",
    "import time\n",
    "import os\n",
    "import lxml\n",
    "import anchors.Anchors as anchorHandler\n",
    "import doc_index.Document_Index as docIndex\n",
    "import struct\n",
    "\n",
    "def crawlWebpage(url):\n",
    "    connection = urllib2.urlopen(url)\n",
    "    page = connection.read()\n",
    "    connection.close()\n",
    "    return page\n",
    "\n",
    "def clean_text(text):\n",
    "    newText = re.sub('[^A-Za-z0-9]+', ' ', text)\n",
    "    return newText\n",
    "\n",
    "def parse_page_for_title(page):\n",
    "    tree = lxml.html.fromstring(page)\n",
    "    return clean_text(tree.findtext('.//title'))\n",
    "\n",
    "def parse_page_for_anchors(page):\n",
    "    tree = lxml.html.fromstring(page)\n",
    "    paths = tree.xpath('//a')\n",
    "    anchors = []\n",
    "    for i in paths:\n",
    "        text = clean_text(i.text)\n",
    "        if len(text.replace(' ', '')) != 0:\n",
    "            anchors.append((text, i.get(\"href\")))\n",
    "    return anchors\n",
    "\n",
    "def encode_title_hit(word, pos):\n",
    "    cap = 1\n",
    "    if word.islower():\n",
    "        cap = 0\n",
    "    imp = 3\n",
    "    hit_type = 1\n",
    "    value = 0\n",
    "    value = (cap << 15)\n",
    "    value += (imp << 12)\n",
    "    value += (hit_type << 8)\n",
    "    value += pos\n",
    "    return struct.pack('H', value)\n",
    "     \n",
    "\n",
    "def encode_title_hits(cleaned_title):\n",
    "    words = cleaned_title.split(\" \")\n",
    "    word_to_hits = {}\n",
    "    for i in xrange(0, len(words)):\n",
    "        encoded_title_hit = encode_title_hit(words[i], i)\n",
    "        if encoded_title_hit != None:\n",
    "            if words[i].lower() not in word_to_hits:\n",
    "                word_to_hits[words[i].lower()] = encoded_title_hit[0] + encoded_title_hit[1]\n",
    "            else:\n",
    "                word_to_hits[words[i].lower()] += encoded_title_hit[0] + encoded_title_hit[1]\n",
    "    print word_to_hits\n",
    "    return word_to_hits\n",
    "\n",
    "# put it all together!\n",
    "def parseFancyHits(url, docID, print_data=False):\n",
    "    page = crawlWebpage(url)\n",
    "\n",
    "    # This is an array of touple(text, xpath)\n",
    "    title = parse_page_for_title(page)\n",
    "\n",
    "    # this is an array of touple(text, fontSize)\n",
    "    anchors = parse_page_for_anchors(page)\n",
    "    for i in anchors:\n",
    "        text, link = i\n",
    "        anchorHandler.addAnchor(docID, link, text)\n",
    "    document_status, repository_pointer, checksum, docinfo_pointer, url_len, title_len = docIndex.getDocIndex(docID)\n",
    "    document_status = 1\n",
    "    position, url_length, title_length = docIndex.setDocInfo(url, title)\n",
    "    docinfo_pointer = position\n",
    "    url_len = url_length\n",
    "    title_len = title_length\n",
    "    packet = struct.pack('BIIIHH', document_status, repository_pointer, checksum, docinfo_pointer, url_len, title_len)\n",
    "    docIndex.setDocIndex(docID, packet)\n",
    "    \n",
    "    hits = encode_title_hits(title)\n",
    "    forwardIndex.addHits(hits, docID)\n",
    "    return hits"
   ]
  },
  {
   "cell_type": "code",
   "execution_count": 2,
   "metadata": {
    "collapsed": false
   },
   "outputs": [
    {
     "name": "stdout",
     "output_type": "stream",
     "text": [
      "\u0005�\n",
      "0.000181 Seconds\n"
     ]
    }
   ],
   "source": []
  },
  {
   "cell_type": "code",
   "execution_count": 3,
   "metadata": {
    "collapsed": false,
    "scrolled": true
   },
   "outputs": [
    {
     "name": "stdout",
     "output_type": "stream",
     "text": [
      "{'how': '\\x011', 'github': '\\x00\\xb1', 'people': '\\x041\\x051', 'builds': '\\x031', 'software': '\\x021'}\n",
      "Packet: \n",
      "\u0015\u0000\u0000\u0000\u0002\u0000\u0000\u0001\u0002\u0000\u0000\u0002\u0004\u0000\u0000\u0003\u0002\u0000\u0000\u0004\u0002\u0000\u0000\u0005\u0000\n",
      "Len: \n",
      "25\n"
     ]
    }
   ],
   "source": [
    "import barrels.Forward_Index as forwardIndex\n",
    "\n",
    "title_hits = encode_title_hits(\"Github how software builds people people\")\n",
    "forwardIndex.addHits(title_hits, docID = 21)"
   ]
  },
  {
   "cell_type": "code",
   "execution_count": null,
   "metadata": {
    "collapsed": true
   },
   "outputs": [],
   "source": []
  }
 ],
 "metadata": {
  "kernelspec": {
   "display_name": "Python 2",
   "language": "python",
   "name": "python2"
  },
  "language_info": {
   "codemirror_mode": {
    "name": "ipython",
    "version": 2
   },
   "file_extension": ".py",
   "mimetype": "text/x-python",
   "name": "python",
   "nbconvert_exporter": "python",
   "pygments_lexer": "ipython2",
   "version": "2.7.11"
  }
 },
 "nbformat": 4,
 "nbformat_minor": 0
}
