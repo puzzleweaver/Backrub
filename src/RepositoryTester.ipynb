{
 "cells": [
  {
   "cell_type": "code",
   "execution_count": 1,
   "metadata": {
    "collapsed": true
   },
   "outputs": [],
   "source": [
    "import sys, os\n",
    "sys.path.append(os.path.abspath('repository/'))\n",
    "import Repository as repo\n",
    "import struct"
   ]
  },
  {
   "cell_type": "code",
   "execution_count": 3,
   "metadata": {
    "collapsed": false
   },
   "outputs": [
    {
     "name": "stdout",
     "output_type": "stream",
     "text": [
      "12\n",
      "(20, 'http://stackoverflow.com/questions/417142/what-is-the-maximum-length-of-a-url-in-different-browsers', 'a;sdlfjk;alsdjf;lajsd;flkjalsdjf;ladslfkjas;ldkfja;lsdjflkajsd;lfj;alsjdf;ljas;ldfa')\n"
     ]
    }
   ],
   "source": [
    "docID = 20\n",
    "url = 'http://stackoverflow.com/questions/417142/what-is-the-maximum-length-of-a-url-in-different-browsers'\n",
    "page = 'a;sdlfjk;alsdjf;lajsd;flkjalsdjf;ladslfkjas;ldkfja;lsdjflkajsd;lfj;alsjdf;ljas;ldfa'\n",
    "repo.addDocument(docID, url, page)\n",
    "position = 0\n",
    "print repo.getDocument(position)"
   ]
  },
  {
   "cell_type": "code",
   "execution_count": null,
   "metadata": {
    "collapsed": true
   },
   "outputs": [],
   "source": []
  }
 ],
 "metadata": {
  "kernelspec": {
   "display_name": "Python 2",
   "language": "python",
   "name": "python2"
  },
  "language_info": {
   "codemirror_mode": {
    "name": "ipython",
    "version": 2
   },
   "file_extension": ".py",
   "mimetype": "text/x-python",
   "name": "python",
   "nbconvert_exporter": "python",
   "pygments_lexer": "ipython2",
   "version": "2.7.11"
  }
 },
 "nbformat": 4,
 "nbformat_minor": 0
}
