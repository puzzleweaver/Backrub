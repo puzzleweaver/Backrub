{
 "cells": [
  {
   "cell_type": "code",
   "execution_count": 69,
   "metadata": {
    "collapsed": false,
    "scrolled": false
   },
   "outputs": [
    {
     "name": "stdout",
     "output_type": "stream",
     "text": [
      "448: https://en.wikipedia.org/wiki/Vulkan_(API)\n",
      "500: https://en.wikipedia.org/wiki/OpenGL_Shading_Language\n",
      "258: https://en.wikipedia.org/wiki/Shading_language\n",
      "252: https://en.wikipedia.org//wikimediafoundation.org/wiki/Privacy_policy\n",
      "5: https://en.wikipedia.org//wikimediafoundation.org/wiki/Home\n",
      "5: https://en.wikipedia.org//en.wikipedia.org/wiki/HTTP_404\n",
      "5: https://en.wikipedia.org/\n",
      "358: https://en.wikipedia.org/wiki/Provinces_of_Costa_Rica\n",
      "331: https://en.wikipedia.org/wiki/Main_Page\n",
      "358: https://en.wikipedia.org/w/api.php?action=featuredfeed&amp;feed=featured&amp;feedformat=atom\n",
      "13: https://en.wikipedia.org//en.wikipedia.org/w/api.php?action=rsd\n",
      "5: https://en.wikipedia.org/\n",
      "358: https://en.wikipedia.org//www.wikidata.org/\n",
      "5: https://en.wikipedia.org//en.wikipedia.org/wiki/HTTP_404\n",
      "5: https://en.wikipedia.org/wiki//en.wikipedia.org/wiki/HTTP_404\n",
      "80: https://en.wikipedia.org/wiki/Case_sensitivity\n",
      "171: https://en.wikipedia.org/wiki/Database_management_system\n",
      "949: https://en.wikipedia.org/wiki/Distributed_database\n",
      "325: https://en.wikipedia.org/wiki/Couchbase_Server\n",
      "250: https://en.wikipedia.org/w/index.php?title=Couchbase_Server&amp;action=edit&amp;section=2\n",
      "250: https://en.wikipedia.org/wiki/Shared-nothing_architecture\n",
      "153: https://en.wikipedia.org/wiki/Special:SpecialPages\n",
      "177: https://en.wikipedia.org/wiki/Special:BlockList\n",
      "314: https://en.wikipedia.org/w/index.php?title=User_talk:111.250.108.14&amp;action=edit&amp;redlink=1\n",
      "67: https://en.wikipedia.org/wiki/Special:MyTalk\n",
      "315: https://en.wikipedia.org/wiki/User:Pinethicket\n",
      "96: https://en.wikipedia.org/wiki/User:Pinethicket/MyStuff2\n",
      "160: https://en.wikipedia.org/wiki/John_Jakes\n",
      "276: https://en.wikipedia.org/w/index.php?title=John_Jakes&amp;action=edit\n",
      "276: https://en.wikipedia.org/wiki/The_Kent_Family_Chronicles\n",
      "157: https://en.wikipedia.org/wiki/File:Cannon_shot_by_Velde.jpg\n",
      "288: https://en.wikipedia.org/wiki/The_Zoot_Suit_Murders\n",
      "116: https://en.wikipedia.org/wiki/Historical_novel\n",
      "1101: https://en.wikipedia.org/wiki/Ancient_Greece\n",
      "1458: https://en.wikipedia.org/wiki/Macedonia_(Roman_province)\n",
      "565: https://en.wikipedia.org/wiki/Gallia_Narbonensis\n",
      "473: https://en.wikipedia.org/wiki/Category:All_articles_needing_additional_references\n",
      "1009: https://en.wikipedia.org//en.wikipedia.org/wiki/Category:All_articles_needing_additional_references?from=Ok\n",
      "5: https://en.wikipedia.org/\n",
      "358: https://en.wikipedia.org/wiki/Edgar_Lungu\n",
      "244: https://en.wikipedia.org/wiki/Template_talk:Zambian_Presidents\n",
      "99: https://en.wikipedia.org/wiki/Wikipedia_talk:WikiProject_Africa\n",
      "195: https://en.wikipedia.org//en.m.wikipedia.org/w/index.php?title=Wikipedia_talk:WikiProject_Africa&amp;mobileaction=toggle_view_mobile\n",
      "5: https://en.wikipedia.org//wikimediafoundation.org/wiki/Home\n",
      "5: https://en.wikipedia.org//wikimediafoundation.org/wiki/Home\n",
      "5: https://en.wikipedia.org/wiki//wikimediafoundation.org/wiki/Home\n",
      "80: https://en.wikipedia.org//en.wikipedia.org/w/index.php?title=Special:Log/delete&amp;page=/wikimediafoundation.org/wiki/Home\n",
      "5: https://en.wikipedia.org//en.wikipedia.org/wiki/HTTP_404\n",
      "5: https://en.wikipedia.org/\n",
      "358: https://en.wikipedia.org/wiki/Jasbir_Walia\n",
      "133: https://en.wikipedia.org/w/index.php?title=Jasbir_Walia&amp;action=history\n",
      "133: https://en.wikipedia.org/wiki/Air_War_College\n",
      "227: https://en.wikipedia.org/wiki/File:Awc-lrg.gif\n",
      "96: https://en.wikipedia.org/w/index.php?title=File:Awc-lrg.gif&amp;oldid=468508653\n",
      "96: https://en.wikipedia.org/wiki/File:Awc-lrg.gif\n",
      "96: https://en.wikipedia.org/wiki/File:Awc-lrg.gif\n",
      "96: https://en.wikipedia.org//upload.wikimedia.org/wikipedia/en/c/c3/Awc-lrg.gif\n",
      "5: https://en.wikipedia.org/wiki//upload.wikimedia.org/wikipedia/en/c/c3/Awc-lrg.gif\n",
      "80: https://en.wikipedia.org//creativecommons.org/licenses/by-sa/3.0/\n",
      "5: https://en.wikipedia.org//en.wikipedia.org/wiki/HTTP_404\n",
      "5: https://en.wikipedia.org//wikimediafoundation.org/wiki/Home\n",
      "5: https://en.wikipedia.org/\n",
      "358: https://en.wikipedia.org/wiki/Mayor\n",
      "612: https://en.wikipedia.org/wiki/Crete\n",
      "2094: https://en.wikipedia.org/wiki/Lefka_Ori\n",
      "273: https://en.wikipedia.org/wiki/Acarnanian_Mountains\n",
      "119: https://en.wikipedia.org//en.wikipedia.org/wiki/Wikipedia:Contact_us\n",
      "5: https://en.wikipedia.org//wikimediafoundation.org/wiki/Home\n",
      "5: https://en.wikipedia.org//en.wikipedia.org/wiki/HTTP_404\n",
      "5: https://en.wikipedia.org/wiki//en.wikipedia.org/wiki/HTTP_404\n",
      "80: https://en.wikipedia.org/wiki/File:Wikidata-logo.svg\n",
      "236: https://en.wikipedia.org/wiki/C._S._Lewis\n",
      "1243: https://en.wikipedia.org/wiki/File:Magdalen_College_Oxford_20040613.jpg\n",
      "116: https://en.wikipedia.org/wiki/Alfred_Denning,_Baron_Denning\n",
      "972: https://en.wikipedia.org/w/index.php?title=Alfred_Denning,_Baron_Denning&amp;action=edit&amp;section=18\n",
      "972: https://en.wikipedia.org/wiki/Call_to_the_Bar\n",
      "142: https://en.wikipedia.org/wiki/Law_of_England_and_Wales\n",
      "560: https://en.wikipedia.org/wiki/English_law\n",
      "559: https://en.wikipedia.org/wiki/Interpretation_Act_1978\n",
      "266: https://en.wikipedia.org/wiki/Parliament_of_the_United_Kingdom\n",
      "1320: https://en.wikipedia.org/w/index.php?title=Parliament_of_the_United_Kingdom&amp;action=info\n",
      "1320: https://en.wikipedia.org/wiki/Church_of_England\n",
      "1479: https://en.wikipedia.org/wiki/Diocese_of_Canterbury\n",
      "339: https://en.wikipedia.org/wiki/Portal:Current_events\n",
      "1147: https://en.wikipedia.org/wiki/Milwaukee\n",
      "2629: https://en.wikipedia.org/wiki/Category:Use_mdy_dates_from_July_2015\n",
      "356: https://en.wikipedia.org//en.wikipedia.org/wiki/Wikipedia:Contact_us\n",
      "5: https://en.wikipedia.org//wikimediafoundation.org/wiki/Home\n",
      "5: https://en.wikipedia.org/\n",
      "358: https://en.wikipedia.org/wiki/Afghanistan\n",
      "3293: https://en.wikipedia.org/wiki/1986_Black_Sea_incident\n",
      "468: https://en.wikipedia.org//login.wikimedia.org\n",
      "5: https://en.wikipedia.org//en.wikipedia.org/wiki/HTTP_404\n",
      "5: https://en.wikipedia.org//en.wikipedia.org/wiki/HTTP_404\n",
      "5: https://en.wikipedia.org/\n",
      "358: https://en.wikipedia.org/w/index.php?title=Special:CreateAccount&amp;returnto=Main+Page\n",
      "48: https://en.wikipedia.org/w/index.php?title=Special:RecentChanges&amp;feed=atom\n",
      "440: https://en.wikipedia.org/wiki/Special:Contributions/Sam_Sailor\n",
      "345: https://en.wikipedia.org/w/index.php?title=User_talk:223.24.56.20&amp;action=history\n",
      "106: https://en.wikipedia.org/wiki/IP_address\n"
     ]
    }
   ],
   "source": [
    "import requests\n",
    "import random\n",
    "import re\n",
    "link = \"https://en.wikipedia.org/wiki/Lightweight_Java_Game_Library\"\n",
    "\n",
    "def getLinkList(str):\n",
    "    return re.findall(\"href=\\\"(.+?)\\\"\", str)\n",
    "\n",
    "for i in xrange(100):\n",
    "    f = requests.get(link)\n",
    "    links = getLinkList(f.text)\n",
    "    while True:\n",
    "        link = links[random.randint(0, len(links)-1)]\n",
    "        if link[0] == \"/\" and len(getLinkList(requests.get(\"https://en.wikipedia.org\" + link).text)) != 0:\n",
    "            break\n",
    "    link = \"https://en.wikipedia.org\" + link\n",
    "    print(\"%i: \"%len(links) + link)\n"
   ]
  },
  {
   "cell_type": "code",
   "execution_count": null,
   "metadata": {
    "collapsed": false
   },
   "outputs": [],
   "source": []
  },
  {
   "cell_type": "code",
   "execution_count": null,
   "metadata": {
    "collapsed": false
   },
   "outputs": [],
   "source": []
  },
  {
   "cell_type": "code",
   "execution_count": null,
   "metadata": {
    "collapsed": true
   },
   "outputs": [],
   "source": []
  }
 ],
 "metadata": {
  "kernelspec": {
   "display_name": "Python [Root]",
   "language": "python",
   "name": "Python [Root]"
  },
  "language_info": {
   "codemirror_mode": {
    "name": "ipython",
    "version": 2
   },
   "file_extension": ".py",
   "mimetype": "text/x-python",
   "name": "python",
   "nbconvert_exporter": "python",
   "pygments_lexer": "ipython2",
   "version": "2.7.12"
  }
 },
 "nbformat": 4,
 "nbformat_minor": 0
}
